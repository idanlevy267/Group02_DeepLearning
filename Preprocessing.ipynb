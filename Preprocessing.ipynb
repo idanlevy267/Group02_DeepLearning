{
  "cells": [
    {
      "cell_type": "code",
      "execution_count": 21,
      "metadata": {
        "colab": {
          "base_uri": "https://localhost:8080/",
          "height": 424
        },
        "id": "nNteY1ghGXYq",
        "outputId": "fbaf886f-6919-4682-c98d-89141c4bf8a7"
      },
      "outputs": [
        {
          "data": {
            "text/html": [
              "<div>\n",
              "<style scoped>\n",
              "    .dataframe tbody tr th:only-of-type {\n",
              "        vertical-align: middle;\n",
              "    }\n",
              "\n",
              "    .dataframe tbody tr th {\n",
              "        vertical-align: top;\n",
              "    }\n",
              "\n",
              "    .dataframe thead th {\n",
              "        text-align: right;\n",
              "    }\n",
              "</style>\n",
              "<table border=\"1\" class=\"dataframe\">\n",
              "  <thead>\n",
              "    <tr style=\"text-align: right;\">\n",
              "      <th></th>\n",
              "      <th>publish_date</th>\n",
              "      <th>headline_category</th>\n",
              "      <th>headline_text</th>\n",
              "    </tr>\n",
              "  </thead>\n",
              "  <tbody>\n",
              "    <tr>\n",
              "      <th>0</th>\n",
              "      <td>19960102</td>\n",
              "      <td>news</td>\n",
              "      <td>UUP sees possibility of voting Major out</td>\n",
              "    </tr>\n",
              "    <tr>\n",
              "      <th>1</th>\n",
              "      <td>19960102</td>\n",
              "      <td>news</td>\n",
              "      <td>Pubs targeted as curbs on smoking are extended</td>\n",
              "    </tr>\n",
              "    <tr>\n",
              "      <th>2</th>\n",
              "      <td>19960102</td>\n",
              "      <td>news</td>\n",
              "      <td>Papers reveal secret links with O'Neill cabinet</td>\n",
              "    </tr>\n",
              "    <tr>\n",
              "      <th>3</th>\n",
              "      <td>19960102</td>\n",
              "      <td>news</td>\n",
              "      <td>Domestic chaos as Italy takes EU presidency</td>\n",
              "    </tr>\n",
              "    <tr>\n",
              "      <th>4</th>\n",
              "      <td>19960102</td>\n",
              "      <td>news</td>\n",
              "      <td>Learning about the star to which we owe life</td>\n",
              "    </tr>\n",
              "    <tr>\n",
              "      <th>...</th>\n",
              "      <td>...</td>\n",
              "      <td>...</td>\n",
              "      <td>...</td>\n",
              "    </tr>\n",
              "    <tr>\n",
              "      <th>1611490</th>\n",
              "      <td>20210630</td>\n",
              "      <td>news.politics.oireachtas</td>\n",
              "      <td>Reserve members of Defence Forces to be allowe...</td>\n",
              "    </tr>\n",
              "    <tr>\n",
              "      <th>1611491</th>\n",
              "      <td>20210630</td>\n",
              "      <td>culture</td>\n",
              "      <td>Maureen Dowd: Joe Biden is 'crazy about the Ir...</td>\n",
              "    </tr>\n",
              "    <tr>\n",
              "      <th>1611492</th>\n",
              "      <td>20210630</td>\n",
              "      <td>sport.others</td>\n",
              "      <td>Andy Murray rolls back the years to own Centre...</td>\n",
              "    </tr>\n",
              "    <tr>\n",
              "      <th>1611493</th>\n",
              "      <td>20210630</td>\n",
              "      <td>news.health</td>\n",
              "      <td>Delta variant could do 'significant damage' in...</td>\n",
              "    </tr>\n",
              "    <tr>\n",
              "      <th>1611494</th>\n",
              "      <td>20210630</td>\n",
              "      <td>culture</td>\n",
              "      <td>Gordon Brown: 'We've got to give people a mess...</td>\n",
              "    </tr>\n",
              "  </tbody>\n",
              "</table>\n",
              "<p>1611495 rows × 3 columns</p>\n",
              "</div>"
            ],
            "text/plain": [
              "         publish_date         headline_category  \\\n",
              "0            19960102                      news   \n",
              "1            19960102                      news   \n",
              "2            19960102                      news   \n",
              "3            19960102                      news   \n",
              "4            19960102                      news   \n",
              "...               ...                       ...   \n",
              "1611490      20210630  news.politics.oireachtas   \n",
              "1611491      20210630                   culture   \n",
              "1611492      20210630              sport.others   \n",
              "1611493      20210630               news.health   \n",
              "1611494      20210630                   culture   \n",
              "\n",
              "                                             headline_text  \n",
              "0                 UUP sees possibility of voting Major out  \n",
              "1           Pubs targeted as curbs on smoking are extended  \n",
              "2          Papers reveal secret links with O'Neill cabinet  \n",
              "3              Domestic chaos as Italy takes EU presidency  \n",
              "4             Learning about the star to which we owe life  \n",
              "...                                                    ...  \n",
              "1611490  Reserve members of Defence Forces to be allowe...  \n",
              "1611491  Maureen Dowd: Joe Biden is 'crazy about the Ir...  \n",
              "1611492  Andy Murray rolls back the years to own Centre...  \n",
              "1611493  Delta variant could do 'significant damage' in...  \n",
              "1611494  Gordon Brown: 'We've got to give people a mess...  \n",
              "\n",
              "[1611495 rows x 3 columns]"
            ]
          },
          "execution_count": 21,
          "metadata": {},
          "output_type": "execute_result"
        }
      ],
      "source": [
        "#some imports and loading the data\n",
        "import pandas as pd\n",
        "import matplotlib.pyplot as plt\n",
        "import numpy as np\n",
        "import squarify\n",
        "import time\n",
        "import nltk\n",
        "from nltk.corpus import stopwords\n",
        "from collections import Counter\n",
        "data = pd.read_csv(\"ireland-news-headlines.csv\")\n",
        "data"
      ]
    },
    {
      "attachments": {},
      "cell_type": "markdown",
      "metadata": {
        "id": "vHPfdnc0Hlhv"
      },
      "source": [
        "# Data Initial Preprocessing"
      ]
    },
    {
      "attachments": {},
      "cell_type": "markdown",
      "metadata": {
        "id": "_hQ6d8m2Hs1b"
      },
      "source": [
        "### lower letters in category and title"
      ]
    },
    {
      "cell_type": "code",
      "execution_count": 3,
      "metadata": {
        "colab": {
          "base_uri": "https://localhost:8080/"
        },
        "id": "pOvN79CdHu4n",
        "outputId": "9a5b73e5-7a9c-4ef4-ac03-504f9010e5e1"
      },
      "outputs": [
        {
          "data": {
            "text/plain": [
              "1611495"
            ]
          },
          "execution_count": 3,
          "metadata": {},
          "output_type": "execute_result"
        }
      ],
      "source": [
        "#useable paramerters:\n",
        "total_rec = data.shape[0]\n",
        "total_rec"
      ]
    },
    {
      "attachments": {},
      "cell_type": "markdown",
      "metadata": {},
      "source": [
        "### changing all letters to be lower "
      ]
    },
    {
      "cell_type": "code",
      "execution_count": 4,
      "metadata": {
        "id": "-u3WIgLPHxfC"
      },
      "outputs": [],
      "source": [
        "lower_letters = data.copy()\n",
        "lower_letters[\"headline_text\"] = lower_letters[\"headline_text\"].str.lower()\n",
        "lower_letters[\"headline_category\"] = lower_letters[\"headline_category\"].str.lower()\n",
        "#data1: all lower letters\n",
        "data1 = lower_letters.copy()"
      ]
    },
    {
      "attachments": {},
      "cell_type": "markdown",
      "metadata": {
        "id": "Xq98CKyIH0aM"
      },
      "source": [
        "### Remove duplicates"
      ]
    },
    {
      "cell_type": "code",
      "execution_count": 5,
      "metadata": {
        "colab": {
          "base_uri": "https://localhost:8080/"
        },
        "id": "D7OwVFHbHzQx",
        "outputId": "7e3c681f-99ae-4bd1-f762-3830e3ac3862"
      },
      "outputs": [
        {
          "name": "stdout",
          "output_type": "stream",
          "text": [
            "There were 91134 duplicates that were deleted which are 0.057 of data\n",
            "Left 1520361 records\n"
          ]
        }
      ],
      "source": [
        "#deleteing duplications - data2: no duplicates\n",
        "duplicates = data1.duplicated(subset=['headline_text', 'headline_category'])\n",
        "count_dups = duplicates.sum()\n",
        "data_no_dups = data1[~duplicates]\n",
        "data2 = data_no_dups.copy()\n",
        "\n",
        "print(\"There were\", count_dups, \"duplicates that were deleted which are\",round(count_dups/total_rec,3) ,\"of data\\nLeft\", total_rec-count_dups, \"records\")"
      ]
    },
    {
      "cell_type": "code",
      "execution_count": 6,
      "metadata": {
        "colab": {
          "base_uri": "https://localhost:8080/"
        },
        "id": "DIjjoADIHzTK",
        "outputId": "c58d83be-2be7-4ac7-ad48-4b5733b165ed"
      },
      "outputs": [
        {
          "name": "stdout",
          "output_type": "stream",
          "text": [
            "unique records showing more than once:  19618\n"
          ]
        }
      ],
      "source": [
        "counts = lower_letters[\"headline_category\"].astype(str) + '-' + lower_letters[\"headline_text\"].astype(str)\n",
        "counts = counts.value_counts()\n",
        "unique_dups = counts[counts>1].shape[0]\n",
        "print(\"unique records showing more than once: \",unique_dups)"
      ]
    },
    {
      "cell_type": "code",
      "execution_count": 7,
      "metadata": {
        "id": "qW4HU3hpHzVs"
      },
      "outputs": [],
      "source": [
        "#changing data format. data3: changed data column's format\n",
        "data2[\"publish_date\"] = pd.to_datetime(data2[\"publish_date\"], format=\"%Y%m%d\")\n",
        "data3 = data2.copy()"
      ]
    },
    {
      "attachments": {},
      "cell_type": "markdown",
      "metadata": {},
      "source": [
        "### Remove Nulls"
      ]
    },
    {
      "cell_type": "code",
      "execution_count": 8,
      "metadata": {
        "colab": {
          "base_uri": "https://localhost:8080/"
        },
        "id": "Sycb3zi8HzYI",
        "outputId": "70669939-301a-46df-9bb4-803adaa1503f"
      },
      "outputs": [
        {
          "data": {
            "text/plain": [
              "publish_date         0\n",
              "headline_category    0\n",
              "headline_text        4\n",
              "dtype: int64"
            ]
          },
          "execution_count": 8,
          "metadata": {},
          "output_type": "execute_result"
        }
      ],
      "source": [
        "null_counts = data3.isnull().sum()\n",
        "null_counts"
      ]
    },
    {
      "cell_type": "code",
      "execution_count": 9,
      "metadata": {
        "colab": {
          "base_uri": "https://localhost:8080/",
          "height": 424
        },
        "id": "YMfOYtBBH8Ph",
        "outputId": "26a049d2-7751-4827-94af-e5872d89d1fe"
      },
      "outputs": [
        {
          "data": {
            "text/html": [
              "<div>\n",
              "<style scoped>\n",
              "    .dataframe tbody tr th:only-of-type {\n",
              "        vertical-align: middle;\n",
              "    }\n",
              "\n",
              "    .dataframe tbody tr th {\n",
              "        vertical-align: top;\n",
              "    }\n",
              "\n",
              "    .dataframe thead th {\n",
              "        text-align: right;\n",
              "    }\n",
              "</style>\n",
              "<table border=\"1\" class=\"dataframe\">\n",
              "  <thead>\n",
              "    <tr style=\"text-align: right;\">\n",
              "      <th></th>\n",
              "      <th>publish_date</th>\n",
              "      <th>headline_category</th>\n",
              "      <th>headline_text</th>\n",
              "    </tr>\n",
              "  </thead>\n",
              "  <tbody>\n",
              "    <tr>\n",
              "      <th>0</th>\n",
              "      <td>1996-01-02</td>\n",
              "      <td>news</td>\n",
              "      <td>uup sees possibility of voting major out</td>\n",
              "    </tr>\n",
              "    <tr>\n",
              "      <th>1</th>\n",
              "      <td>1996-01-02</td>\n",
              "      <td>news</td>\n",
              "      <td>pubs targeted as curbs on smoking are extended</td>\n",
              "    </tr>\n",
              "    <tr>\n",
              "      <th>2</th>\n",
              "      <td>1996-01-02</td>\n",
              "      <td>news</td>\n",
              "      <td>papers reveal secret links with o'neill cabinet</td>\n",
              "    </tr>\n",
              "    <tr>\n",
              "      <th>3</th>\n",
              "      <td>1996-01-02</td>\n",
              "      <td>news</td>\n",
              "      <td>domestic chaos as italy takes eu presidency</td>\n",
              "    </tr>\n",
              "    <tr>\n",
              "      <th>4</th>\n",
              "      <td>1996-01-02</td>\n",
              "      <td>news</td>\n",
              "      <td>learning about the star to which we owe life</td>\n",
              "    </tr>\n",
              "    <tr>\n",
              "      <th>...</th>\n",
              "      <td>...</td>\n",
              "      <td>...</td>\n",
              "      <td>...</td>\n",
              "    </tr>\n",
              "    <tr>\n",
              "      <th>1611490</th>\n",
              "      <td>2021-06-30</td>\n",
              "      <td>news.politics.oireachtas</td>\n",
              "      <td>reserve members of defence forces to be allowe...</td>\n",
              "    </tr>\n",
              "    <tr>\n",
              "      <th>1611491</th>\n",
              "      <td>2021-06-30</td>\n",
              "      <td>culture</td>\n",
              "      <td>maureen dowd: joe biden is 'crazy about the ir...</td>\n",
              "    </tr>\n",
              "    <tr>\n",
              "      <th>1611492</th>\n",
              "      <td>2021-06-30</td>\n",
              "      <td>sport.others</td>\n",
              "      <td>andy murray rolls back the years to own centre...</td>\n",
              "    </tr>\n",
              "    <tr>\n",
              "      <th>1611493</th>\n",
              "      <td>2021-06-30</td>\n",
              "      <td>news.health</td>\n",
              "      <td>delta variant could do 'significant damage' in...</td>\n",
              "    </tr>\n",
              "    <tr>\n",
              "      <th>1611494</th>\n",
              "      <td>2021-06-30</td>\n",
              "      <td>culture</td>\n",
              "      <td>gordon brown: 'we've got to give people a mess...</td>\n",
              "    </tr>\n",
              "  </tbody>\n",
              "</table>\n",
              "<p>1520357 rows × 3 columns</p>\n",
              "</div>"
            ],
            "text/plain": [
              "        publish_date         headline_category  \\\n",
              "0         1996-01-02                      news   \n",
              "1         1996-01-02                      news   \n",
              "2         1996-01-02                      news   \n",
              "3         1996-01-02                      news   \n",
              "4         1996-01-02                      news   \n",
              "...              ...                       ...   \n",
              "1611490   2021-06-30  news.politics.oireachtas   \n",
              "1611491   2021-06-30                   culture   \n",
              "1611492   2021-06-30              sport.others   \n",
              "1611493   2021-06-30               news.health   \n",
              "1611494   2021-06-30                   culture   \n",
              "\n",
              "                                             headline_text  \n",
              "0                 uup sees possibility of voting major out  \n",
              "1           pubs targeted as curbs on smoking are extended  \n",
              "2          papers reveal secret links with o'neill cabinet  \n",
              "3              domestic chaos as italy takes eu presidency  \n",
              "4             learning about the star to which we owe life  \n",
              "...                                                    ...  \n",
              "1611490  reserve members of defence forces to be allowe...  \n",
              "1611491  maureen dowd: joe biden is 'crazy about the ir...  \n",
              "1611492  andy murray rolls back the years to own centre...  \n",
              "1611493  delta variant could do 'significant damage' in...  \n",
              "1611494  gordon brown: 'we've got to give people a mess...  \n",
              "\n",
              "[1520357 rows x 3 columns]"
            ]
          },
          "execution_count": 9,
          "metadata": {},
          "output_type": "execute_result"
        }
      ],
      "source": [
        "#removing nulls: data4: removed nulls\n",
        "data4 = data3.dropna(subset=[\"headline_text\"])\n",
        "data4"
      ]
    },
    {
      "attachments": {},
      "cell_type": "markdown",
      "metadata": {
        "id": "ClDC0bdWH_bY"
      },
      "source": [
        "# Preprocessing Cont. - Data Exploration & Visualization"
      ]
    },
    {
      "attachments": {},
      "cell_type": "markdown",
      "metadata": {
        "id": "h0fyDcvZIFnx"
      },
      "source": [
        "## Categories "
      ]
    },
    {
      "attachments": {},
      "cell_type": "markdown",
      "metadata": {},
      "source": [
        "#### Category Distribution"
      ]
    },
    {
      "cell_type": "code",
      "execution_count": 10,
      "metadata": {
        "colab": {
          "base_uri": "https://localhost:8080/"
        },
        "id": "Mn8e3975H8Rp",
        "outputId": "1d7b0767-1b9b-44c8-c9ca-171b0c2f362f"
      },
      "outputs": [
        {
          "name": "stdout",
          "output_type": "stream",
          "text": [
            "total categories:  103\n"
          ]
        },
        {
          "data": {
            "text/plain": [
              "news                               0.351337\n",
              "sport                              0.094280\n",
              "business                           0.065905\n",
              "opinion.letters                    0.033710\n",
              "opinion                            0.025713\n",
              "                                     ...   \n",
              "lifestyle.food.restaurant          0.000126\n",
              "news.technology                    0.000117\n",
              "business.markets.bonds             0.000078\n",
              "lifestyle.abroad.working-abroad    0.000072\n",
              "news.health.coronavirus            0.000065\n",
              "Name: headline_category, Length: 103, dtype: float64"
            ]
          },
          "execution_count": 10,
          "metadata": {},
          "output_type": "execute_result"
        }
      ],
      "source": [
        "category_counts = data4[\"headline_category\"].value_counts()\n",
        "total_categories = category_counts.count()\n",
        "print(\"total categories: \", total_categories)\n",
        "#the proportion of each category\n",
        "categ_freq = category_counts/total_rec\n",
        "categ_freq"
      ]
    },
    {
      "attachments": {},
      "cell_type": "markdown",
      "metadata": {},
      "source": [
        "### Adding primary category of the headline which is the first word in the category"
      ]
    },
    {
      "cell_type": "code",
      "execution_count": 11,
      "metadata": {
        "colab": {
          "base_uri": "https://localhost:8080/",
          "height": 424
        },
        "id": "gn5XFerQL6rG",
        "outputId": "37370172-2900-4ae8-fe9b-644f4108ae0f"
      },
      "outputs": [
        {
          "data": {
            "text/html": [
              "<div>\n",
              "<style scoped>\n",
              "    .dataframe tbody tr th:only-of-type {\n",
              "        vertical-align: middle;\n",
              "    }\n",
              "\n",
              "    .dataframe tbody tr th {\n",
              "        vertical-align: top;\n",
              "    }\n",
              "\n",
              "    .dataframe thead th {\n",
              "        text-align: right;\n",
              "    }\n",
              "</style>\n",
              "<table border=\"1\" class=\"dataframe\">\n",
              "  <thead>\n",
              "    <tr style=\"text-align: right;\">\n",
              "      <th></th>\n",
              "      <th>publish_date</th>\n",
              "      <th>headline_category</th>\n",
              "      <th>headline_text</th>\n",
              "      <th>primary_category</th>\n",
              "    </tr>\n",
              "  </thead>\n",
              "  <tbody>\n",
              "    <tr>\n",
              "      <th>0</th>\n",
              "      <td>1996-01-02</td>\n",
              "      <td>news</td>\n",
              "      <td>uup sees possibility of voting major out</td>\n",
              "      <td>news</td>\n",
              "    </tr>\n",
              "    <tr>\n",
              "      <th>1</th>\n",
              "      <td>1996-01-02</td>\n",
              "      <td>news</td>\n",
              "      <td>pubs targeted as curbs on smoking are extended</td>\n",
              "      <td>news</td>\n",
              "    </tr>\n",
              "    <tr>\n",
              "      <th>2</th>\n",
              "      <td>1996-01-02</td>\n",
              "      <td>news</td>\n",
              "      <td>papers reveal secret links with o'neill cabinet</td>\n",
              "      <td>news</td>\n",
              "    </tr>\n",
              "    <tr>\n",
              "      <th>3</th>\n",
              "      <td>1996-01-02</td>\n",
              "      <td>news</td>\n",
              "      <td>domestic chaos as italy takes eu presidency</td>\n",
              "      <td>news</td>\n",
              "    </tr>\n",
              "    <tr>\n",
              "      <th>4</th>\n",
              "      <td>1996-01-02</td>\n",
              "      <td>news</td>\n",
              "      <td>learning about the star to which we owe life</td>\n",
              "      <td>news</td>\n",
              "    </tr>\n",
              "    <tr>\n",
              "      <th>...</th>\n",
              "      <td>...</td>\n",
              "      <td>...</td>\n",
              "      <td>...</td>\n",
              "      <td>...</td>\n",
              "    </tr>\n",
              "    <tr>\n",
              "      <th>1611490</th>\n",
              "      <td>2021-06-30</td>\n",
              "      <td>news.politics.oireachtas</td>\n",
              "      <td>reserve members of defence forces to be allowe...</td>\n",
              "      <td>news</td>\n",
              "    </tr>\n",
              "    <tr>\n",
              "      <th>1611491</th>\n",
              "      <td>2021-06-30</td>\n",
              "      <td>culture</td>\n",
              "      <td>maureen dowd: joe biden is 'crazy about the ir...</td>\n",
              "      <td>culture</td>\n",
              "    </tr>\n",
              "    <tr>\n",
              "      <th>1611492</th>\n",
              "      <td>2021-06-30</td>\n",
              "      <td>sport.others</td>\n",
              "      <td>andy murray rolls back the years to own centre...</td>\n",
              "      <td>sport</td>\n",
              "    </tr>\n",
              "    <tr>\n",
              "      <th>1611493</th>\n",
              "      <td>2021-06-30</td>\n",
              "      <td>news.health</td>\n",
              "      <td>delta variant could do 'significant damage' in...</td>\n",
              "      <td>news</td>\n",
              "    </tr>\n",
              "    <tr>\n",
              "      <th>1611494</th>\n",
              "      <td>2021-06-30</td>\n",
              "      <td>culture</td>\n",
              "      <td>gordon brown: 'we've got to give people a mess...</td>\n",
              "      <td>culture</td>\n",
              "    </tr>\n",
              "  </tbody>\n",
              "</table>\n",
              "<p>1520357 rows × 4 columns</p>\n",
              "</div>"
            ],
            "text/plain": [
              "        publish_date         headline_category  \\\n",
              "0         1996-01-02                      news   \n",
              "1         1996-01-02                      news   \n",
              "2         1996-01-02                      news   \n",
              "3         1996-01-02                      news   \n",
              "4         1996-01-02                      news   \n",
              "...              ...                       ...   \n",
              "1611490   2021-06-30  news.politics.oireachtas   \n",
              "1611491   2021-06-30                   culture   \n",
              "1611492   2021-06-30              sport.others   \n",
              "1611493   2021-06-30               news.health   \n",
              "1611494   2021-06-30                   culture   \n",
              "\n",
              "                                             headline_text primary_category  \n",
              "0                 uup sees possibility of voting major out             news  \n",
              "1           pubs targeted as curbs on smoking are extended             news  \n",
              "2          papers reveal secret links with o'neill cabinet             news  \n",
              "3              domestic chaos as italy takes eu presidency             news  \n",
              "4             learning about the star to which we owe life             news  \n",
              "...                                                    ...              ...  \n",
              "1611490  reserve members of defence forces to be allowe...             news  \n",
              "1611491  maureen dowd: joe biden is 'crazy about the ir...          culture  \n",
              "1611492  andy murray rolls back the years to own centre...            sport  \n",
              "1611493  delta variant could do 'significant damage' in...             news  \n",
              "1611494  gordon brown: 'we've got to give people a mess...          culture  \n",
              "\n",
              "[1520357 rows x 4 columns]"
            ]
          },
          "execution_count": 11,
          "metadata": {},
          "output_type": "execute_result"
        }
      ],
      "source": [
        "#data5 has a new column with the primary category of the headline which is the first word in the category\n",
        "data5 = data4.copy()\n",
        "data5[\"primary_category\"] = data4['headline_category'].str.split('.', expand=True)[0]\n",
        "data5"
      ]
    },
    {
      "attachments": {},
      "cell_type": "markdown",
      "metadata": {
        "id": "EVcwcdZ8NMcj"
      },
      "source": [
        "## Visualize Categories"
      ]
    },
    {
      "attachments": {},
      "cell_type": "markdown",
      "metadata": {},
      "source": [
        "### Some visualizations to understand how primary categories are distributed"
      ]
    },
    {
      "cell_type": "code",
      "execution_count": 13,
      "metadata": {
        "colab": {
          "base_uri": "https://localhost:8080/",
          "height": 533
        },
        "id": "bE07cUWXMZRz",
        "outputId": "22d979dc-1273-493e-d20f-ac7b58fda3e3"
      },
      "outputs": [
        {
          "data": {
            "image/png": "[encoded data removed]",
            "text/plain": [
              "<Figure size 720x360 with 1 Axes>"
            ]
          },
          "metadata": {
            "needs_background": "light"
          },
          "output_type": "display_data"
        }
      ],
      "source": [
        "import matplotlib.pyplot as plt\n",
        "\n",
        "#the categories that make 100% of all records\n",
        "category_counts = data5['primary_category'].value_counts()\n",
        "cumulative_pct = category_counts.cumsum() / category_counts.sum()\n",
        "top_categories = cumulative_pct[cumulative_pct <= 1].index\n",
        "\n",
        "filtered_category_counts = category_counts.loc[top_categories]\n",
        "\n",
        "\n",
        "plt.figure(figsize=(10, 5))\n",
        "filtered_category_counts.plot(kind=\"bar\")\n",
        "plt.title(\"Category Distribution\")\n",
        "plt.xlabel(\"Category\")\n",
        "plt.ylabel(\"Count\")\n",
        "#plt.savefig(\"plots\\Category Distribution.png\")\n",
        "plt.show()"
      ]
    },
    {
      "cell_type": "code",
      "execution_count": 14,
      "metadata": {
        "colab": {
          "base_uri": "https://localhost:8080/",
          "height": 529
        },
        "id": "Koqlr7JSM0bD",
        "outputId": "615bf375-fdd2-433e-f404-a0c8e21548f2"
      },
      "outputs": [
        {
          "data": {
            "image/png": "[encoded data removed]",
            "text/plain": [
              "<Figure size 864x432 with 1 Axes>"
            ]
          },
          "metadata": {},
          "output_type": "display_data"
        }
      ],
      "source": [
        "#visualization for 80% of all categories\n",
        "\n",
        "import squarify\n",
        "import time\n",
        "cumulative_pct = category_counts.cumsum() / category_counts.sum()\n",
        "top_categories = cumulative_pct.index\n",
        "\n",
        "filtered_category_counts = category_counts.loc[top_categories]\n",
        "plt.figure(figsize=(12, 6), facecolor= 'white')\n",
        "label_font = {'fontsize': 14}\n",
        "squarify.plot(sizes=filtered_category_counts, label=filtered_category_counts.index, alpha=.8, pad=True, text_kwargs= label_font)\n",
        "plt.axis(\"off\")\n",
        "plt.title(\"Category Distribution\", fontsize = 20)\n",
        "#plt.savefig(\"/content/drive/MyDrive/DeepLearning - Headlines Proj/Plots/Category Distribution Boxes.png\")\n",
        "plt.show()"
      ]
    },
    {
      "cell_type": "code",
      "execution_count": 15,
      "metadata": {},
      "outputs": [
        {
          "data": {
            "text/plain": [
              "news         778288\n",
              "sport        254447\n",
              "business     216264\n",
              "opinion       99609\n",
              "culture       86292\n",
              "lifestyle     85457\n",
              "Name: primary_category, dtype: int64"
            ]
          },
          "execution_count": 15,
          "metadata": {},
          "output_type": "execute_result"
        }
      ],
      "source": [
        "category_counts"
      ]
    },
    {
      "cell_type": "code",
      "execution_count": 16,
      "metadata": {},
      "outputs": [],
      "source": [
        "data6 = data5.copy()"
      ]
    },
    {
      "attachments": {},
      "cell_type": "markdown",
      "metadata": {},
      "source": [
        "### adding columns for the data instaed of the original column"
      ]
    },
    {
      "cell_type": "code",
      "execution_count": 17,
      "metadata": {},
      "outputs": [],
      "source": [
        "import pandas as pd\n",
        "\n",
        "data6['day'] = data6['publish_date'].dt.day\n",
        "data6['date'] = data6['publish_date'].dt.month\n",
        "data6['year'] = data6['publish_date'].dt.year\n",
        "\n",
        "# Drop the original timestamp column if no longer needed\n",
        "data6 = data6.drop('publish_date', axis=1)\n"
      ]
    },
    {
      "cell_type": "code",
      "execution_count": 18,
      "metadata": {},
      "outputs": [
        {
          "data": {
            "text/html": [
              "<div>\n",
              "<style scoped>\n",
              "    .dataframe tbody tr th:only-of-type {\n",
              "        vertical-align: middle;\n",
              "    }\n",
              "\n",
              "    .dataframe tbody tr th {\n",
              "        vertical-align: top;\n",
              "    }\n",
              "\n",
              "    .dataframe thead th {\n",
              "        text-align: right;\n",
              "    }\n",
              "</style>\n",
              "<table border=\"1\" class=\"dataframe\">\n",
              "  <thead>\n",
              "    <tr style=\"text-align: right;\">\n",
              "      <th></th>\n",
              "      <th>headline_category</th>\n",
              "      <th>headline_text</th>\n",
              "      <th>primary_category</th>\n",
              "      <th>day</th>\n",
              "      <th>date</th>\n",
              "      <th>year</th>\n",
              "    </tr>\n",
              "  </thead>\n",
              "  <tbody>\n",
              "    <tr>\n",
              "      <th>0</th>\n",
              "      <td>news</td>\n",
              "      <td>uup sees possibility of voting major out</td>\n",
              "      <td>news</td>\n",
              "      <td>2</td>\n",
              "      <td>1</td>\n",
              "      <td>1996</td>\n",
              "    </tr>\n",
              "    <tr>\n",
              "      <th>1</th>\n",
              "      <td>news</td>\n",
              "      <td>pubs targeted as curbs on smoking are extended</td>\n",
              "      <td>news</td>\n",
              "      <td>2</td>\n",
              "      <td>1</td>\n",
              "      <td>1996</td>\n",
              "    </tr>\n",
              "    <tr>\n",
              "      <th>2</th>\n",
              "      <td>news</td>\n",
              "      <td>papers reveal secret links with o'neill cabinet</td>\n",
              "      <td>news</td>\n",
              "      <td>2</td>\n",
              "      <td>1</td>\n",
              "      <td>1996</td>\n",
              "    </tr>\n",
              "    <tr>\n",
              "      <th>3</th>\n",
              "      <td>news</td>\n",
              "      <td>domestic chaos as italy takes eu presidency</td>\n",
              "      <td>news</td>\n",
              "      <td>2</td>\n",
              "      <td>1</td>\n",
              "      <td>1996</td>\n",
              "    </tr>\n",
              "    <tr>\n",
              "      <th>4</th>\n",
              "      <td>news</td>\n",
              "      <td>learning about the star to which we owe life</td>\n",
              "      <td>news</td>\n",
              "      <td>2</td>\n",
              "      <td>1</td>\n",
              "      <td>1996</td>\n",
              "    </tr>\n",
              "    <tr>\n",
              "      <th>...</th>\n",
              "      <td>...</td>\n",
              "      <td>...</td>\n",
              "      <td>...</td>\n",
              "      <td>...</td>\n",
              "      <td>...</td>\n",
              "      <td>...</td>\n",
              "    </tr>\n",
              "    <tr>\n",
              "      <th>1611490</th>\n",
              "      <td>news.politics.oireachtas</td>\n",
              "      <td>reserve members of defence forces to be allowe...</td>\n",
              "      <td>news</td>\n",
              "      <td>30</td>\n",
              "      <td>6</td>\n",
              "      <td>2021</td>\n",
              "    </tr>\n",
              "    <tr>\n",
              "      <th>1611491</th>\n",
              "      <td>culture</td>\n",
              "      <td>maureen dowd: joe biden is 'crazy about the ir...</td>\n",
              "      <td>culture</td>\n",
              "      <td>30</td>\n",
              "      <td>6</td>\n",
              "      <td>2021</td>\n",
              "    </tr>\n",
              "    <tr>\n",
              "      <th>1611492</th>\n",
              "      <td>sport.others</td>\n",
              "      <td>andy murray rolls back the years to own centre...</td>\n",
              "      <td>sport</td>\n",
              "      <td>30</td>\n",
              "      <td>6</td>\n",
              "      <td>2021</td>\n",
              "    </tr>\n",
              "    <tr>\n",
              "      <th>1611493</th>\n",
              "      <td>news.health</td>\n",
              "      <td>delta variant could do 'significant damage' in...</td>\n",
              "      <td>news</td>\n",
              "      <td>30</td>\n",
              "      <td>6</td>\n",
              "      <td>2021</td>\n",
              "    </tr>\n",
              "    <tr>\n",
              "      <th>1611494</th>\n",
              "      <td>culture</td>\n",
              "      <td>gordon brown: 'we've got to give people a mess...</td>\n",
              "      <td>culture</td>\n",
              "      <td>30</td>\n",
              "      <td>6</td>\n",
              "      <td>2021</td>\n",
              "    </tr>\n",
              "  </tbody>\n",
              "</table>\n",
              "<p>1520357 rows × 6 columns</p>\n",
              "</div>"
            ],
            "text/plain": [
              "                headline_category  \\\n",
              "0                            news   \n",
              "1                            news   \n",
              "2                            news   \n",
              "3                            news   \n",
              "4                            news   \n",
              "...                           ...   \n",
              "1611490  news.politics.oireachtas   \n",
              "1611491                   culture   \n",
              "1611492              sport.others   \n",
              "1611493               news.health   \n",
              "1611494                   culture   \n",
              "\n",
              "                                             headline_text primary_category  \\\n",
              "0                 uup sees possibility of voting major out             news   \n",
              "1           pubs targeted as curbs on smoking are extended             news   \n",
              "2          papers reveal secret links with o'neill cabinet             news   \n",
              "3              domestic chaos as italy takes eu presidency             news   \n",
              "4             learning about the star to which we owe life             news   \n",
              "...                                                    ...              ...   \n",
              "1611490  reserve members of defence forces to be allowe...             news   \n",
              "1611491  maureen dowd: joe biden is 'crazy about the ir...          culture   \n",
              "1611492  andy murray rolls back the years to own centre...            sport   \n",
              "1611493  delta variant could do 'significant damage' in...             news   \n",
              "1611494  gordon brown: 'we've got to give people a mess...          culture   \n",
              "\n",
              "         day  date  year  \n",
              "0          2     1  1996  \n",
              "1          2     1  1996  \n",
              "2          2     1  1996  \n",
              "3          2     1  1996  \n",
              "4          2     1  1996  \n",
              "...      ...   ...   ...  \n",
              "1611490   30     6  2021  \n",
              "1611491   30     6  2021  \n",
              "1611492   30     6  2021  \n",
              "1611493   30     6  2021  \n",
              "1611494   30     6  2021  \n",
              "\n",
              "[1520357 rows x 6 columns]"
            ]
          },
          "execution_count": 18,
          "metadata": {},
          "output_type": "execute_result"
        }
      ],
      "source": [
        "data6"
      ]
    },
    {
      "attachments": {},
      "cell_type": "markdown",
      "metadata": {},
      "source": [
        "## Balancing the data"
      ]
    },
    {
      "attachments": {},
      "cell_type": "markdown",
      "metadata": {},
      "source": [
        "### Handling majority classes by undersampling"
      ]
    },
    {
      "cell_type": "code",
      "execution_count": 19,
      "metadata": {},
      "outputs": [],
      "source": [
        "from sklearn.utils import resample\n",
        "\n",
        "# Define majority classes\n",
        "majority_classes = ['news', 'sport', 'business']\n",
        "\n",
        "# Define the target number of samples\n",
        "n_samples = data6[data6['primary_category'] == 'business'].shape[0]\n",
        "\n",
        "# Perform undersampling for the majority classes\n",
        "for cat in majority_classes:\n",
        "    data_majority = data6[data6['primary_category'] == cat]\n",
        "    data_majority_downsampled = resample(data_majority, \n",
        "                                         replace=False,     # sample without replacement\n",
        "                                         n_samples=n_samples,  # to match minority class\n",
        "                                         random_state=123)   # reproducible results\n",
        "    # Replace the original majority class with the downsampled data\n",
        "    data6 = data6[data6['primary_category'] != cat]\n",
        "    data6 = pd.concat([data6, data_majority_downsampled])\n"
      ]
    },
    {
      "attachments": {},
      "cell_type": "markdown",
      "metadata": {},
      "source": [
        "### Handling minority classes by oversampling "
      ]
    },
    {
      "cell_type": "code",
      "execution_count": 22,
      "metadata": {},
      "outputs": [],
      "source": [
        "from sklearn.utils import resample\n",
        "\n",
        "# Define minority classes\n",
        "minority_classes = ['opinion', 'culture', 'lifestyle']\n",
        "\n",
        "# Define the target number of samples. Here, we'll take the median of all class sizes as target.\n",
        "sizes = [data6[data6['primary_category'] == cat].shape[0] for cat in data6['primary_category'].unique()]\n",
        "n_samples = int(np.median(sizes))\n",
        "\n",
        "# Perform oversampling for the minority classes\n",
        "for cat in minority_classes:\n",
        "    data_minority = data6[data6['primary_category'] == cat]\n",
        "    data_minority_oversampled = resample(data_minority, \n",
        "                                         replace=True,     # sample with replacement\n",
        "                                         n_samples=n_samples,    # to reach median class size\n",
        "                                         random_state=123)   # reproducible results\n",
        "    # Replace the original minority class with the oversampled data\n",
        "    data6 = data6[data6['primary_category'] != cat]\n",
        "    data6 = pd.concat([data6, data_minority_oversampled])\n"
      ]
    },
    {
      "cell_type": "code",
      "execution_count": 23,
      "metadata": {},
      "outputs": [
        {
          "data": {
            "text/plain": [
              "news         216264\n",
              "sport        216264\n",
              "business     216264\n",
              "opinion      157936\n",
              "culture      157936\n",
              "lifestyle    157936\n",
              "Name: primary_category, dtype: int64"
            ]
          },
          "execution_count": 23,
          "metadata": {},
          "output_type": "execute_result"
        }
      ],
      "source": [
        "#the balanced data\n",
        "category_counts2 = data6['primary_category'].value_counts()\n",
        "category_counts2"
      ]
    },
    {
      "attachments": {},
      "cell_type": "markdown",
      "metadata": {
        "id": "b7WtvH9rNVGC"
      },
      "source": [
        "## Visualizing the number of headlines per category over time."
      ]
    },
    {
      "cell_type": "code",
      "execution_count": 24,
      "metadata": {
        "colab": {
          "base_uri": "https://localhost:8080/",
          "height": 608
        },
        "id": "ykPowK7aM6Wr",
        "outputId": "6f5fd0d0-c343-498a-dec2-f1cc2bedad45"
      },
      "outputs": [
        {
          "data": {
            "image/png": "[encoded data removed]",
            "text/plain": [
              "<Figure size 864x432 with 1 Axes>"
            ]
          },
          "metadata": {},
          "output_type": "display_data"
        }
      ],
      "source": [
        "\n",
        "# Group data by year and headline_category, and count the occurrences\n",
        "grouped_data = data6.groupby(['year', 'primary_category']).size().reset_index(name='count')\n",
        "\n",
        "# Find the top 3 categories for each year\n",
        "top_categories_per_year = grouped_data.groupby('year').apply(lambda x: x.nlargest(6, 'count')).reset_index(drop=True)\n",
        "\n",
        "# Create a pivot table for visualization\n",
        "pivot_table = top_categories_per_year.pivot_table(index='year', columns='primary_category', values='count', fill_value=0)\n",
        "\n",
        "# Set the background color of the plot using matplotlib styles\n",
        "plt.style.use('ggplot')\n",
        "plt.rcParams['figure.facecolor'] = 'white'\n",
        "\n",
        "# Plot the stacked bar chart\n",
        "ax = pivot_table.plot.bar(stacked=True, figsize=(12, 6))\n",
        "ax.set_xlabel(\"Year\")\n",
        "ax.set_ylabel(\"Count\")\n",
        "ax.set_title(\"Headline Categories Distribution Over The Years\")\n",
        "plt.legend(title='Headline Categories', bbox_to_anchor=(1.05, 1), loc='upper left')\n",
        "#plt.savefig(\"/content/drive/MyDrive/DeepLearning - Headlines Proj/Plots/Headline Categories Distribution Over The Years.png\", bbox_inches='tight')\n",
        "plt.show()"
      ]
    },
    {
      "attachments": {},
      "cell_type": "markdown",
      "metadata": {
        "id": "oSOhA_NFQ4RN"
      },
      "source": [
        "## Examine the most common words in the headlines and their frequencies."
      ]
    },
    {
      "cell_type": "code",
      "execution_count": 25,
      "metadata": {
        "colab": {
          "base_uri": "https://localhost:8080/",
          "height": 762
        },
        "id": "LaqhHVCdPeTY",
        "outputId": "28c4ef85-d995-46cc-9224-52a842415e86"
      },
      "outputs": [
        {
          "name": "stdout",
          "output_type": "stream",
          "text": [
            "irish: 40141\n",
            "new: 34711\n",
            "ireland: 28641\n",
            "dublin: 21402\n",
            "us: 20371\n",
            "says: 16661\n",
            "man: 13213\n",
            "may: 12911\n",
            "review: 12890\n",
            "back: 12788\n",
            "time: 12054\n",
            "home: 11770\n",
            "world: 11494\n",
            "first: 10101\n",
            "get: 10032\n",
            "eu: 9990\n",
            "deal: 9698\n",
            "life: 9681\n",
            "take: 9366\n",
            "set: 9149\n"
          ]
        }
      ],
      "source": [
        "import nltk\n",
        "from nltk.corpus import stopwords\n",
        "from collections import Counter\n",
        "import pickle\n",
        "\n",
        "\n",
        "# Concatenate all the headline texts into a single string\n",
        "headline_text = \" \".join(data6[\"headline_text\"].tolist())\n",
        "\n",
        "# Tokenize the string into individual words\n",
        "words = nltk.word_tokenize(headline_text)\n",
        "\n",
        "# Filter out stop words\n",
        "stop_words = set(stopwords.words(\"english\"))\n",
        "filtered_words = [word.lower() for word in words if word.lower() not in stop_words and word.isalpha()]\n",
        "\n",
        "# Compute the frequency of each word\n",
        "word_freq = Counter(filtered_words)\n",
        "\n",
        "#save in a pickle file\n",
        "with open('word_freq.pkl', 'wb') as file:\n",
        "    pickle.dump(word_freq, file)\n",
        "\n",
        "# Sort the words by frequency in descending order\n",
        "sorted_words = sorted(word_freq.items(), key=lambda x: x[1], reverse=True)\n",
        "\n",
        "# Print the 20 most common words and their frequencies\n",
        "for word, freq in sorted_words[:20]:\n",
        "    print(f\"{word}: {freq}\")"
      ]
    },
    {
      "cell_type": "code",
      "execution_count": 28,
      "metadata": {
        "id": "-40ktdZ5Qr00"
      },
      "outputs": [],
      "source": [
        "#we saved the previous cell output in a pickle file to prevent many calculations (attached to this project)\n",
        "\n",
        "# Open the pickle file in read mode\n",
        "with open('word_freq.pkl', 'rb') as f:\n",
        "    # Load the object from the pickle file\n",
        "    word_freq = pickle.load(f)"
      ]
    },
    {
      "attachments": {},
      "cell_type": "markdown",
      "metadata": {},
      "source": [
        "## Word Distribution"
      ]
    },
    {
      "attachments": {},
      "cell_type": "markdown",
      "metadata": {},
      "source": [
        "### We want to understand how many words we need in our model's vocabulary\n",
        "### therefore we want to find the number of words that covers most of the data"
      ]
    },
    {
      "cell_type": "code",
      "execution_count": 29,
      "metadata": {
        "colab": {
          "base_uri": "https://localhost:8080/"
        },
        "id": "s-zhNOtjQ1pp",
        "outputId": "1f3d5779-8dd0-4772-b247-529177116659"
      },
      "outputs": [
        {
          "name": "stdout",
          "output_type": "stream",
          "text": [
            "in total there are: 8073062 words\n"
          ]
        }
      ],
      "source": [
        "#how many words in total (not unique)\n",
        "\n",
        "total_words = 0\n",
        "for word in word_freq:\n",
        "    total_words += word[1]\n",
        "print(\"in total there are:\",total_words,\"words\")\n",
        "\n",
        "#in freq_dict each word has a tuple value (how many times it appeared, the prop of it)\n",
        "freq_dict = {}\n",
        "for item in word_freq:\n",
        "    freq_dict[item[0]] = (item[1], item[1]/total_words)\n",
        "\n",
        "#gives you the index of the last word that covers a given precentage of the whole data\n",
        "def idx_of_precentage (dict,precentage):\n",
        "    cumsum = 0\n",
        "    props = [word[1][1] for word in dict]\n",
        "    idx = 0\n",
        "    for prop in props:\n",
        "        if cumsum <= precentage:\n",
        "            cumsum += prop\n",
        "            idx +=1\n",
        "        else:\n",
        "            break\n",
        "    return idx"
      ]
    },
    {
      "cell_type": "code",
      "execution_count": 30,
      "metadata": {
        "colab": {
          "base_uri": "https://localhost:8080/",
          "height": 985
        },
        "id": "WhKpzzVPRGYf",
        "outputId": "97649e7f-d32d-4fc2-ce3b-bd67b887025d"
      },
      "outputs": [
        {
          "data": {
            "image/png": "[encoded data removed]",
            "text/plain": [
              "<Figure size 1296x864 with 2 Axes>"
            ]
          },
          "metadata": {},
          "output_type": "display_data"
        }
      ],
      "source": [
        "# Define the dictionary object with the word data\n",
        "word_data = freq_dict.copy()\n",
        "\n",
        "# Sort the dictionary object by the number of appearances in descending order\n",
        "sorted_data = sorted(word_data.items(), key=lambda x: x[1][0], reverse=True)\n",
        "\n",
        "p80_idx = idx_of_precentage(sorted_data, 0.9) \n",
        "# Get the top 30 most common words\n",
        "top_words = sorted_data[:p80_idx]\n",
        "\n",
        "all_words = sorted_data.copy() #for later use\n",
        "\n",
        "# Extract the word names and the appearance counts from the data\n",
        "word_names = [word[0] for word in top_words]\n",
        "appearances = [word[1][0] for word in top_words]\n",
        "props = [word[1][1] for word in top_words]\n",
        "\n",
        "# Create the figure and axes objects\n",
        "fig, ax = plt.subplots(figsize = (18,12))\n",
        "\n",
        "# Create the bar plot with the top 30 words and their appearance counts\n",
        "ax.bar(word_names, appearances)\n",
        "\n",
        "# Create the cumulative sum of the appearance counts\n",
        "#cumulative_sum = [sum(appearances[:i+1]) for i in range(len(appearances))]\n",
        "cumulative_sum_props = [sum(props[:i+1]) for i in range(len(props))]\n",
        "\n",
        "# Calculate the total number of word appearances\n",
        "#total_appearances = sum(appearances)\n",
        "total_props = sum(props)\n",
        "\n",
        "# Calculate the percentage of each word's appearance count\n",
        "#percentages = [count / total_appearances * 100 for count in appearances]\n",
        "percentages1 = [count / total_props * 100 for count in props]\n",
        "\n",
        "# Create the line plot for the cumulative percentage of word appearances\n",
        "ax2 = ax.twinx()\n",
        "ax2.plot(word_names, cumulative_sum_props, color='C1', marker='o', ms=7)\n",
        "ax2.plot(word_names, [0.8] * len(word_names), color='C1', linestyle='--')\n",
        "#dotted_line, = ax2.plot(word_names, [total_props * 0.8] * len(word_names), color='C1', linestyle='--')\n",
        "\n",
        "# Add a label to the dotted line of ax2\n",
        "label_position = (word_names[-1], 0.8)\n",
        "ax2.annotate('80%', xy=label_position, xytext=(-20, 10), textcoords='offset points', fontsize=12)\n",
        "\n",
        "# Set the axis labels and titles\n",
        "ax.set_xlabel('Word')\n",
        "ax.set_ylabel('Number of Appearances')\n",
        "ax2.set_ylabel('Cumulative Percentage of Appearances (%)')\n",
        "ax.set_title('Pareto Chart of Words Frequency by Proportion')\n",
        "\n",
        "# Remove the x-axis tick labels\n",
        "ax.set_xticklabels([])\n",
        "\n",
        "# Set the tick label font size and rotate the x-axis tick labels\n",
        "plt.xticks(fontsize=10, rotation=45)\n",
        "\n",
        "\n",
        "#saving\n",
        "#plt.savefig(\"/content/drive/MyDrive/DeepLearning - Headlines Proj/Plots/Pareto Chart of Words Frequency by Proportion.png\")\n",
        "\n",
        "# Show the plot\n",
        "plt.show()\n"
      ]
    },
    {
      "attachments": {},
      "cell_type": "markdown",
      "metadata": {},
      "source": [
        "### understanding how many unique words cover each percent of the data"
      ]
    },
    {
      "cell_type": "code",
      "execution_count": 31,
      "metadata": {
        "colab": {
          "base_uri": "https://localhost:8080/"
        },
        "id": "oTqOXcLWT8-d",
        "outputId": "6d8fe5a2-b1fa-4b3e-c050-a7c3aa6a75ac"
      },
      "outputs": [
        {
          "name": "stdout",
          "output_type": "stream",
          "text": [
            "There are 5032 words that make up 80 percent of all words.\n"
          ]
        }
      ],
      "source": [
        "idx80 = idx_of_precentage(sorted_data,0.8)\n",
        "top_80p_words = all_words[:idx80+1]\n",
        "top_80p_words = [word[0] for word in top_80p_words]\n",
        "top_80p_words\n",
        "\n",
        "print(\"There are\", len(top_80p_words),\"words that make up 80 percent of all words.\")"
      ]
    },
    {
      "cell_type": "code",
      "execution_count": 32,
      "metadata": {
        "colab": {
          "base_uri": "https://localhost:8080/"
        },
        "id": "2l2EcDaOT_yW",
        "outputId": "3d7bd282-4ad4-426b-d504-b7c8f01bc5b8"
      },
      "outputs": [
        {
          "name": "stdout",
          "output_type": "stream",
          "text": [
            "There are 18556 words that make up 95 percent of all words.\n"
          ]
        }
      ],
      "source": [
        "idx95 = idx_of_precentage(sorted_data,0.95)\n",
        "top_95p_words = all_words[:idx95+1]\n",
        "top_95p_words = [word[0] for word in top_95p_words]\n",
        "\n",
        "print(\"There are\", len(top_95p_words),\"words that make up 95 percent of all words.\")"
      ]
    },
    {
      "cell_type": "code",
      "execution_count": 33,
      "metadata": {
        "colab": {
          "base_uri": "https://localhost:8080/"
        },
        "id": "0lNBwA7hUBzy",
        "outputId": "88c562ba-ca64-4982-9271-1535619307a6"
      },
      "outputs": [
        {
          "name": "stdout",
          "output_type": "stream",
          "text": [
            "There are 49460 words that make up 99 percent of all words.\n"
          ]
        }
      ],
      "source": [
        "idx99 = idx_of_precentage(sorted_data,0.99)\n",
        "top_99p_words = all_words[:idx99+1]\n",
        "top_99p_words = [word[0] for word in top_99p_words]\n",
        "\n",
        "print(\"There are\", len(top_99p_words),\"words that make up 99 percent of all words.\")"
      ]
    },
    {
      "cell_type": "code",
      "execution_count": 34,
      "metadata": {
        "colab": {
          "base_uri": "https://localhost:8080/"
        },
        "id": "G6veXNo-UFU3",
        "outputId": "18674d84-8e41-4e11-c8c4-3a5847c128af"
      },
      "outputs": [
        {
          "name": "stdout",
          "output_type": "stream",
          "text": [
            "Vocabulary of 20000 words covers: 95.5 percent of the data\n"
          ]
        }
      ],
      "source": [
        "#finding how mych data is covered for 20000 words\n",
        "sum20k = 0\n",
        "for word in all_words[:20001]:\n",
        "    sum20k += word[1][1]\n",
        "\n",
        "print(\"Vocabulary of 20000 words covers:\", round(sum20k,3)*100, \"percent of the data\")\n"
      ]
    },
    {
      "cell_type": "code",
      "execution_count": 35,
      "metadata": {},
      "outputs": [
        {
          "name": "stdout",
          "output_type": "stream",
          "text": [
            "In total there are: 107373 unique words\n"
          ]
        }
      ],
      "source": [
        "#how many unique words we have in the data\n",
        "print(\"In total there are:\",len(all_words),\"unique words\")"
      ]
    },
    {
      "attachments": {},
      "cell_type": "markdown",
      "metadata": {},
      "source": [
        "#### finally we saw 20,000 words cover 95.5% od the data, which has 107,373 unique words within (We reduced about 80% of it and we are only missing 4.5% of the words)"
      ]
    },
    {
      "attachments": {},
      "cell_type": "markdown",
      "metadata": {
        "id": "o8BnFBtfTe1n"
      },
      "source": [
        "## Text Preprocessing"
      ]
    },
    {
      "attachments": {},
      "cell_type": "markdown",
      "metadata": {},
      "source": [
        "### Tokenizing, Removing punctuation and stop words, Lemmazation"
      ]
    },
    {
      "cell_type": "code",
      "execution_count": 36,
      "metadata": {},
      "outputs": [
        {
          "name": "stderr",
          "output_type": "stream",
          "text": [
            "[nltk_data] Downloading package punkt to\n",
            "[nltk_data]     C:\\Users\\idan2\\AppData\\Roaming\\nltk_data...\n",
            "[nltk_data]   Package punkt is already up-to-date!\n",
            "[nltk_data] Downloading package stopwords to\n",
            "[nltk_data]     C:\\Users\\idan2\\AppData\\Roaming\\nltk_data...\n",
            "[nltk_data]   Package stopwords is already up-to-date!\n",
            "[nltk_data] Downloading package wordnet to\n",
            "[nltk_data]     C:\\Users\\idan2\\AppData\\Roaming\\nltk_data...\n",
            "[nltk_data]   Package wordnet is already up-to-date!\n"
          ]
        }
      ],
      "source": [
        "import nltk\n",
        "from nltk.corpus import stopwords\n",
        "from nltk.tokenize import word_tokenize\n",
        "from nltk.stem import WordNetLemmatizer\n",
        "import string\n",
        "\n",
        "# Download the necessary resources\n",
        "nltk.download('punkt')\n",
        "nltk.download('stopwords')\n",
        "nltk.download('wordnet')\n",
        "\n",
        "# Initialize the WordNetLemmatizer\n",
        "lemmatizer = WordNetLemmatizer()\n",
        "\n",
        "# Define a function to preprocess the text\n",
        "def preprocess_text(text):\n",
        "    # Tokenization\n",
        "    tokens = word_tokenize(text.lower())\n",
        "    \n",
        "    # Remove punctuation and stopwords\n",
        "    tokens = [word for word in tokens if word not in string.punctuation and word not in stopwords.words('english')]\n",
        "    \n",
        "    # Lemmatization\n",
        "    tokens = [lemmatizer.lemmatize(word) for word in tokens]\n",
        "    \n",
        "    return ' '.join(tokens)\n",
        "\n",
        "# Apply the preprocessing function to the headline_text column\n",
        "data6['preprocessed_headline_text'] = data6['headline_text'].apply(preprocess_text)\n"
      ]
    },
    {
      "cell_type": "code",
      "execution_count": 37,
      "metadata": {
        "id": "zExFUa_9WI3S"
      },
      "outputs": [
        {
          "data": {
            "text/html": [
              "<div>\n",
              "<style scoped>\n",
              "    .dataframe tbody tr th:only-of-type {\n",
              "        vertical-align: middle;\n",
              "    }\n",
              "\n",
              "    .dataframe tbody tr th {\n",
              "        vertical-align: top;\n",
              "    }\n",
              "\n",
              "    .dataframe thead th {\n",
              "        text-align: right;\n",
              "    }\n",
              "</style>\n",
              "<table border=\"1\" class=\"dataframe\">\n",
              "  <thead>\n",
              "    <tr style=\"text-align: right;\">\n",
              "      <th></th>\n",
              "      <th>headline_category</th>\n",
              "      <th>headline_text</th>\n",
              "      <th>primary_category</th>\n",
              "      <th>day</th>\n",
              "      <th>date</th>\n",
              "      <th>year</th>\n",
              "      <th>preprocessed_headline_text</th>\n",
              "    </tr>\n",
              "  </thead>\n",
              "  <tbody>\n",
              "    <tr>\n",
              "      <th>268753</th>\n",
              "      <td>news.education</td>\n",
              "      <td>knock-on delays for 3rd-level info</td>\n",
              "      <td>news</td>\n",
              "      <td>12</td>\n",
              "      <td>9</td>\n",
              "      <td>2000</td>\n",
              "      <td>knock-on delay 3rd-level info</td>\n",
              "    </tr>\n",
              "    <tr>\n",
              "      <th>1487397</th>\n",
              "      <td>news.environment</td>\n",
              "      <td>only 40% of adults believe student climate pro...</td>\n",
              "      <td>news</td>\n",
              "      <td>4</td>\n",
              "      <td>4</td>\n",
              "      <td>2019</td>\n",
              "      <td>40 adult believe student climate protest make ...</td>\n",
              "    </tr>\n",
              "    <tr>\n",
              "      <th>1451999</th>\n",
              "      <td>news.ireland</td>\n",
              "      <td>council urged to find engineering solution to ...</td>\n",
              "      <td>news</td>\n",
              "      <td>10</td>\n",
              "      <td>9</td>\n",
              "      <td>2018</td>\n",
              "      <td>council urged find engineering solution danger...</td>\n",
              "    </tr>\n",
              "    <tr>\n",
              "      <th>687759</th>\n",
              "      <td>news</td>\n",
              "      <td>commissioner says coverage of garda death 'dis...</td>\n",
              "      <td>news</td>\n",
              "      <td>13</td>\n",
              "      <td>3</td>\n",
              "      <td>2007</td>\n",
              "      <td>commissioner say coverage garda death 'disgusting</td>\n",
              "    </tr>\n",
              "    <tr>\n",
              "      <th>305939</th>\n",
              "      <td>news</td>\n",
              "      <td>murder accused 'didn't mean it'</td>\n",
              "      <td>news</td>\n",
              "      <td>28</td>\n",
              "      <td>3</td>\n",
              "      <td>2001</td>\n",
              "      <td>murder accused 'did n't mean</td>\n",
              "    </tr>\n",
              "    <tr>\n",
              "      <th>...</th>\n",
              "      <td>...</td>\n",
              "      <td>...</td>\n",
              "      <td>...</td>\n",
              "      <td>...</td>\n",
              "      <td>...</td>\n",
              "      <td>...</td>\n",
              "      <td>...</td>\n",
              "    </tr>\n",
              "    <tr>\n",
              "      <th>1588370</th>\n",
              "      <td>lifestyle</td>\n",
              "      <td>snow: nine ways to have fun in it; and to keep...</td>\n",
              "      <td>lifestyle</td>\n",
              "      <td>5</td>\n",
              "      <td>2</td>\n",
              "      <td>2021</td>\n",
              "      <td>snow nine way fun keep pet safe</td>\n",
              "    </tr>\n",
              "    <tr>\n",
              "      <th>857234</th>\n",
              "      <td>lifestyle</td>\n",
              "      <td>the people's gardens</td>\n",
              "      <td>lifestyle</td>\n",
              "      <td>11</td>\n",
              "      <td>7</td>\n",
              "      <td>2009</td>\n",
              "      <td>people 's garden</td>\n",
              "    </tr>\n",
              "    <tr>\n",
              "      <th>519099</th>\n",
              "      <td>lifestyle</td>\n",
              "      <td>a star in the east</td>\n",
              "      <td>lifestyle</td>\n",
              "      <td>24</td>\n",
              "      <td>7</td>\n",
              "      <td>2004</td>\n",
              "      <td>star east</td>\n",
              "    </tr>\n",
              "    <tr>\n",
              "      <th>671834</th>\n",
              "      <td>lifestyle</td>\n",
              "      <td>the irish time index</td>\n",
              "      <td>lifestyle</td>\n",
              "      <td>16</td>\n",
              "      <td>12</td>\n",
              "      <td>2006</td>\n",
              "      <td>irish time index</td>\n",
              "    </tr>\n",
              "    <tr>\n",
              "      <th>1582356</th>\n",
              "      <td>lifestyle.homes.fine-art-antiques</td>\n",
              "      <td>restaurateur peter white's lifetime collection...</td>\n",
              "      <td>lifestyle</td>\n",
              "      <td>19</td>\n",
              "      <td>12</td>\n",
              "      <td>2020</td>\n",
              "      <td>restaurateur peter white 's lifetime collectio...</td>\n",
              "    </tr>\n",
              "  </tbody>\n",
              "</table>\n",
              "<p>1122600 rows × 7 columns</p>\n",
              "</div>"
            ],
            "text/plain": [
              "                         headline_category  \\\n",
              "268753                      news.education   \n",
              "1487397                   news.environment   \n",
              "1451999                       news.ireland   \n",
              "687759                                news   \n",
              "305939                                news   \n",
              "...                                    ...   \n",
              "1588370                          lifestyle   \n",
              "857234                           lifestyle   \n",
              "519099                           lifestyle   \n",
              "671834                           lifestyle   \n",
              "1582356  lifestyle.homes.fine-art-antiques   \n",
              "\n",
              "                                             headline_text primary_category  \\\n",
              "268753                  knock-on delays for 3rd-level info             news   \n",
              "1487397  only 40% of adults believe student climate pro...             news   \n",
              "1451999  council urged to find engineering solution to ...             news   \n",
              "687759   commissioner says coverage of garda death 'dis...             news   \n",
              "305939                     murder accused 'didn't mean it'             news   \n",
              "...                                                    ...              ...   \n",
              "1588370  snow: nine ways to have fun in it; and to keep...        lifestyle   \n",
              "857234                                the people's gardens        lifestyle   \n",
              "519099                                  a star in the east        lifestyle   \n",
              "671834                                the irish time index        lifestyle   \n",
              "1582356  restaurateur peter white's lifetime collection...        lifestyle   \n",
              "\n",
              "         day  date  year                         preprocessed_headline_text  \n",
              "268753    12     9  2000                      knock-on delay 3rd-level info  \n",
              "1487397    4     4  2019  40 adult believe student climate protest make ...  \n",
              "1451999   10     9  2018  council urged find engineering solution danger...  \n",
              "687759    13     3  2007  commissioner say coverage garda death 'disgusting  \n",
              "305939    28     3  2001                       murder accused 'did n't mean  \n",
              "...      ...   ...   ...                                                ...  \n",
              "1588370    5     2  2021                    snow nine way fun keep pet safe  \n",
              "857234    11     7  2009                                   people 's garden  \n",
              "519099    24     7  2004                                          star east  \n",
              "671834    16    12  2006                                   irish time index  \n",
              "1582356   19    12  2020  restaurateur peter white 's lifetime collectio...  \n",
              "\n",
              "[1122600 rows x 7 columns]"
            ]
          },
          "execution_count": 37,
          "metadata": {},
          "output_type": "execute_result"
        }
      ],
      "source": [
        "data6"
      ]
    },
    {
      "cell_type": "code",
      "execution_count": 38,
      "metadata": {
        "colab": {
          "base_uri": "https://localhost:8080/",
          "height": 424
        },
        "id": "LaCjKURTUPq1",
        "outputId": "da948f81-c01b-4550-bc26-d39f66abbffd"
      },
      "outputs": [],
      "source": [
        "preprocessed_data = data6.copy()\n",
        "preprocessed_data.to_csv(\"PreprocessedData.csv\",index = False)"
      ]
    },
    {
      "cell_type": "code",
      "execution_count": 79,
      "metadata": {},
      "outputs": [],
      "source": [
        "import pandas as pd\n",
        "preprocessed_data = pd.read_csv(\"data/PreprocessedData2505.csv\")"
      ]
    },
    {
      "attachments": {},
      "cell_type": "markdown",
      "metadata": {},
      "source": [
        "## Exploring sentence length's distribution"
      ]
    },
    {
      "cell_type": "code",
      "execution_count": 40,
      "metadata": {},
      "outputs": [
        {
          "name": "stdout",
          "output_type": "stream",
          "text": [
            "Best fitting distribution: gamma\n",
            "Parameters: (13.88126387915963, -2.8445376378468894, 0.5939914465351226)\n",
            "Mean: 8.245352011317776\n",
            "Standard deviation: 2.2130676827412956\n"
          ]
        },
        {
          "data": {
            "image/png": "[encoded data removed]",
            "text/plain": [
              "<Figure size 432x288 with 1 Axes>"
            ]
          },
          "metadata": {},
          "output_type": "display_data"
        }
      ],
      "source": [
        "import numpy as np\n",
        "from scipy import stats\n",
        "import matplotlib.pyplot as plt\n",
        "\n",
        "lengths = preprocessed_data.copy()\n",
        "lengths['sentence_length'] = lengths['preprocessed_headline_text'].apply(lambda x: len(str(x).split()))\n",
        "\n",
        "# find the maximum length sentence\n",
        "longest_sentence = lengths.loc[lengths['sentence_length'].idxmax(), 'preprocessed_headline_text']\n",
        "\n",
        "lengths_dist = lengths[\"sentence_length\"]\n",
        "lengths_dist = lengths_dist.tolist()\n",
        "\n",
        "# Define the list of sentence lengths\n",
        "sentence_lengths =lengths_dist.copy()\n",
        "\n",
        "# Define the candidate distributions to fit the data\n",
        "candidate_distributions = [stats.norm, stats.expon, stats.gamma, stats.weibull_min]\n",
        "\n",
        "# Define a function to fit the data to a given distribution and calculate the sum of squared errors\n",
        "def fit_data_to_distribution(data, distribution):\n",
        "    params = distribution.fit(data)\n",
        "    pdf = distribution.pdf(np.arange(0, max(data) + 1), *params[:-2], loc=params[-2], scale=params[-1])\n",
        "    sse = np.sum(np.power(pdf - np.histogram(data, bins=np.arange(0, max(data) + 2))[0], 2.0))\n",
        "    return sse, params\n",
        "\n",
        "# Fit the data to each distribution and calculate the sum of squared errors\n",
        "results = []\n",
        "for dist in candidate_distributions:\n",
        "    sse, params = fit_data_to_distribution(sentence_lengths, dist)\n",
        "    results.append((dist.name, sse, params))\n",
        "\n",
        "# Select the best fitting distribution based on the minimum sum of squared errors\n",
        "best_fit = min(results, key=lambda x: x[1])\n",
        "\n",
        "# Print the name and parameters of the best fitting distribution\n",
        "print('Best fitting distribution:', best_fit[0])\n",
        "print('Parameters:', best_fit[2])\n",
        "\n",
        "# Plot a histogram of the sentence lengths\n",
        "plt.hist(sentence_lengths, bins=range(min(sentence_lengths), max(sentence_lengths) + 2), density=True)\n",
        "\n",
        "# Plot the best fitting distribution\n",
        "x = np.linspace(0, max(sentence_lengths) + 1, 1000)\n",
        "pdf = getattr(stats, best_fit[0]).pdf(x, *best_fit[2][:-2], loc=best_fit[2][-2], scale=best_fit[2][-1])\n",
        "plt.plot(x, pdf, label=best_fit[0])\n",
        "\n",
        "# Set the plot title and axis labels\n",
        "plt.title('Distribution of Sentence Lengths vs Best Fit Distribution')\n",
        "plt.xlabel('Sentence Length')\n",
        "plt.ylabel('Frequency')\n",
        "\n",
        "# Print the mean and standard deviation of the best fitting distribution\n",
        "if best_fit[0] == 'norm':\n",
        "    print('Mean:', best_fit[2][0])\n",
        "    print('Standard deviation:', best_fit[2][1])\n",
        "else:\n",
        "    print('Mean:', best_fit[2][0] * best_fit[2][-1])\n",
        "    print('Standard deviation:', np.sqrt(best_fit[2][0]) * best_fit[2][-1])\n",
        "\n",
        "# Display the plot\n",
        "plt.legend()\n",
        "\n",
        "#Save\n",
        "plt.savefig(\"Distribution of Sentence Lengths vs Best Fit Distribution.png\")\n",
        "plt.show()\n"
      ]
    },
    {
      "attachments": {},
      "cell_type": "markdown",
      "metadata": {},
      "source": [
        "## Step 4: Prepare the data for modeling"
      ]
    },
    {
      "cell_type": "code",
      "execution_count": 42,
      "metadata": {},
      "outputs": [],
      "source": [
        "#filling nulls in 'preprocessed_headline_text'\n",
        "preprocessed_data['preprocessed_headline_text'] = preprocessed_data['preprocessed_headline_text'].fillna('<missing>').astype(str)"
      ]
    },
    {
      "cell_type": "code",
      "execution_count": 43,
      "metadata": {},
      "outputs": [
        {
          "data": {
            "text/plain": [
              "(1122600, 7)"
            ]
          },
          "execution_count": 43,
          "metadata": {},
          "output_type": "execute_result"
        }
      ],
      "source": [
        "preprocessed_data.shape"
      ]
    },
    {
      "cell_type": "code",
      "execution_count": 8,
      "metadata": {},
      "outputs": [],
      "source": [
        "import pandas as pd\n",
        "import numpy as np\n",
        "from sklearn.model_selection import train_test_split\n",
        "from sklearn.preprocessing import LabelEncoder\n",
        "from transformers import DistilBertTokenizer, RobertaTokenizer\n",
        "from tensorflow.keras.preprocessing.sequence import pad_sequences\n",
        "\n",
        "\n",
        "# 1. Split the data into train and test sets (80% training, 20% testing)\n",
        "train_df, test_df = train_test_split(preprocessed_data, test_size=0.2, random_state=42)\n",
        "\n",
        "# 2. Encode the 'primary_category' column as integer labels using a label encoder\n",
        "encoder = LabelEncoder()\n",
        "train_df['encoded_category'] = encoder.fit_transform(train_df['primary_category'])\n",
        "test_df['encoded_category'] = encoder.transform(test_df['primary_category'])\n",
        "\n",
        "sample_fraction = 0.3  # Fraction of data to keep\n",
        "reduced_df = train_df.groupby('primary_category', group_keys=False).apply(lambda x: x.sample(frac=sample_fraction))\n",
        "\n",
        "# 3. Tokenize the 'preprocessed_headline_text' column using the DistilBERT and RoBERTa tokenizers\n",
        "distilbert_tokenizer = DistilBertTokenizer.from_pretrained('distilbert-base-uncased')\n",
        "roberta_tokenizer = RobertaTokenizer.from_pretrained('roberta-base')\n",
        "\n",
        "# Tokenize using DistilBERT tokenizer\n",
        "reduced_df['distilbert_input'] = reduced_df['preprocessed_headline_text'].apply(lambda x: distilbert_tokenizer.encode(x, add_special_tokens=True))\n",
        "test_df['distilbert_input'] = test_df['preprocessed_headline_text'].apply(lambda x: distilbert_tokenizer.encode(x, add_special_tokens=True))\n",
        "\n",
        "# Tokenize using RoBERTa tokenizer\n",
        "reduced_df['roberta_input'] = reduced_df['preprocessed_headline_text'].apply(lambda x: roberta_tokenizer.encode(x, add_special_tokens=True))\n",
        "test_df['roberta_input'] = test_df['preprocessed_headline_text'].apply(lambda x: roberta_tokenizer.encode(x, add_special_tokens=True))\n",
        "\n",
        "# 4. Pad the tokenized inputs to a fixed length (max_sequence_length), as the headline mean length + 3 std rounded.\n",
        "max_sequence_length = 15\n",
        "\n",
        "train_distilbert_padded = pad_sequences(reduced_df['distilbert_input'], maxlen=max_sequence_length, dtype='long', padding='post', truncating='post')\n",
        "test_distilbert_padded = pad_sequences(test_df['distilbert_input'], maxlen=max_sequence_length, dtype='long', padding='post', truncating='post')\n",
        "\n",
        "train_roberta_padded = pad_sequences(reduced_df['roberta_input'], maxlen=max_sequence_length, dtype='long', padding='post', truncating='post')\n",
        "test_roberta_padded = pad_sequences(test_df['roberta_input'], maxlen=max_sequence_length, dtype='long', padding='post', truncating='post')\n"
      ]
    },
    {
      "cell_type": "code",
      "execution_count": 9,
      "metadata": {},
      "outputs": [
        {
          "data": {
            "text/plain": [
              "(364885, 9)"
            ]
          },
          "execution_count": 9,
          "metadata": {},
          "output_type": "execute_result"
        }
      ],
      "source": [
        "reduced_df.shape"
      ]
    }
  ],
  "metadata": {
    "colab": {
      "gpuType": "T4",
      "provenance": []
    },
    "gpuClass": "standard",
    "kernelspec": {
      "display_name": "Python 3",
      "name": "python3"
    },
    "language_info": {
      "codemirror_mode": {
        "name": "ipython",
        "version": 3
      },
      "file_extension": ".py",
      "mimetype": "text/x-python",
      "name": "python",
      "nbconvert_exporter": "python",
      "pygments_lexer": "ipython3",
      "version": "3.9.12"
    }
  },
  "nbformat": 4,
  "nbformat_minor": 0
}
